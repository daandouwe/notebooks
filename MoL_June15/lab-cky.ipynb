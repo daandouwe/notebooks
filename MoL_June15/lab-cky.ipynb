{
 "cells": [
  {
   "cell_type": "code",
   "execution_count": 1,
   "metadata": {
    "collapsed": true
   },
   "outputs": [],
   "source": [
    "from cfg import read_grammar_rules\n",
    "from cfg import WCFG\n",
    "from rule import Rule"
   ]
  },
  {
   "cell_type": "markdown",
   "metadata": {},
   "source": [
    "# Input\n",
    "\n",
    "In this example we will parse a grammar that performs arithmetic operations such as sum and multiplication."
   ]
  },
  {
   "cell_type": "code",
   "execution_count": 19,
   "metadata": {
    "collapsed": false
   },
   "outputs": [],
   "source": [
    "istream = open('examples/arithmetic', 'r')\n"
   ]
  },
  {
   "cell_type": "code",
   "execution_count": 20,
   "metadata": {
    "collapsed": false
   },
   "outputs": [],
   "source": [
    "rules = list(read_grammar_rules(istream))"
   ]
  },
  {
   "cell_type": "code",
   "execution_count": 21,
   "metadata": {
    "collapsed": false
   },
   "outputs": [
    {
     "data": {
      "text/plain": [
       "[E] -> [T] (0.5)"
      ]
     },
     "execution_count": 21,
     "metadata": {},
     "output_type": "execute_result"
    }
   ],
   "source": [
    "rules[0]"
   ]
  },
  {
   "cell_type": "code",
   "execution_count": 22,
   "metadata": {
    "collapsed": false
   },
   "outputs": [],
   "source": [
    "G = WCFG(rules)"
   ]
  },
  {
   "cell_type": "code",
   "execution_count": 23,
   "metadata": {
    "collapsed": false
   },
   "outputs": [
    {
     "name": "stdout",
     "output_type": "stream",
     "text": [
      "[T] -> [P] (0.5)\n",
      "[T] -> [T] * [P] (0.5)\n",
      "[E] -> [T] (0.5)\n",
      "[E] -> [E] + [T] (0.4)\n",
      "[E] -> [T] + [E] (0.1)\n",
      "[P] -> a (1.0)\n"
     ]
    }
   ],
   "source": [
    "print G"
   ]
  },
  {
   "cell_type": "markdown",
   "metadata": {},
   "source": [
    "# Parser\n",
    "\n",
    "We are using dotted rules to represent items in CKY and Earley.\n",
    "\n",
    "A dotted rule looks like the following:"
   ]
  },
  {
   "cell_type": "code",
   "execution_count": 24,
   "metadata": {
    "collapsed": true
   },
   "outputs": [],
   "source": [
    "class Item(object):\n",
    "    \n",
    "    def __init__(self, rule, dots):\n",
    "        assert len(dots) > 0, 'I do not accept an empty list of dots'\n",
    "        self.rule_ = rule\n",
    "        self.dots_ = tuple(dots)\n",
    "        \n",
    "    def __eq__(self, other):\n",
    "        return self.rule_ == other.rule_ and self.dots_ == other.dots_\n",
    "    \n",
    "    def __ne__(self, other):\n",
    "        return not(self == other)\n",
    "    \n",
    "    def __hash__(self):\n",
    "        return hash((self.rule_, self.dots_))\n",
    "    \n",
    "    def __repr__(self):\n",
    "        return '{0} ||| {1}'.format(self.rule_, self.dots_)\n",
    "    \n",
    "    def __str__(self):\n",
    "        return '{0} ||| {1}'.format(self.rule_, self.dots_)\n",
    "    \n",
    "    @property\n",
    "    def lhs(self):\n",
    "        return self.rule_.lhs\n",
    "    \n",
    "    @property\n",
    "    def rule(self):\n",
    "        return self.rule_\n",
    "    \n",
    "    @property\n",
    "    def dot(self):\n",
    "        return self.dots_[-1]\n",
    "    \n",
    "    @property\n",
    "    def start(self):\n",
    "        return self.dots_[0]\n",
    "    \n",
    "    def advance(self, dot):\n",
    "        \"\"\"return a new item with an extended sequence of dots\"\"\"\n",
    "        return Item(self.rule_, self.dots_ + (dot,))\n",
    "    \n",
    "    def is_complete(self):\n",
    "        \"\"\"complete items are those whose dot reached the end of the RHS sequence\"\"\"\n",
    "        return len(self.rule_.rhs) + 1 == len(self.dots_)\n",
    "    \n",
    "    def next(self):\n",
    "        if self.is_complete():\n",
    "            return None\n",
    "        return self.rule_.rhs[len(self.dots_) - 1]\n",
    "    \n",
    "    "
   ]
  },
  {
   "cell_type": "code",
   "execution_count": 25,
   "metadata": {
    "collapsed": false
   },
   "outputs": [],
   "source": [
    "r = Rule('[S]', ['[X]'], 0.0)"
   ]
  },
  {
   "cell_type": "code",
   "execution_count": 26,
   "metadata": {
    "collapsed": false
   },
   "outputs": [
    {
     "data": {
      "text/plain": [
       "[S] -> [X] (0.0)"
      ]
     },
     "execution_count": 26,
     "metadata": {},
     "output_type": "execute_result"
    }
   ],
   "source": [
    "r"
   ]
  },
  {
   "cell_type": "code",
   "execution_count": 27,
   "metadata": {
    "collapsed": false
   },
   "outputs": [],
   "source": [
    "i1 = Item(r, [0])"
   ]
  },
  {
   "cell_type": "code",
   "execution_count": 28,
   "metadata": {
    "collapsed": true
   },
   "outputs": [],
   "source": [
    "i2 = i1.advance(1)"
   ]
  },
  {
   "cell_type": "code",
   "execution_count": 29,
   "metadata": {
    "collapsed": false
   },
   "outputs": [
    {
     "data": {
      "text/plain": [
       "([S] -> [X] (0.0) ||| (0,), [S] -> [X] (0.0) ||| (0, 1))"
      ]
     },
     "execution_count": 29,
     "metadata": {},
     "output_type": "execute_result"
    }
   ],
   "source": [
    "i1, i2"
   ]
  },
  {
   "cell_type": "code",
   "execution_count": 30,
   "metadata": {
    "collapsed": false
   },
   "outputs": [
    {
     "data": {
      "text/plain": [
       "True"
      ]
     },
     "execution_count": 30,
     "metadata": {},
     "output_type": "execute_result"
    }
   ],
   "source": [
    "i1 != i2"
   ]
  },
  {
   "cell_type": "code",
   "execution_count": 31,
   "metadata": {
    "collapsed": false
   },
   "outputs": [
    {
     "data": {
      "text/plain": [
       "False"
      ]
     },
     "execution_count": 31,
     "metadata": {},
     "output_type": "execute_result"
    }
   ],
   "source": [
    "i1 == i2"
   ]
  },
  {
   "cell_type": "code",
   "execution_count": 32,
   "metadata": {
    "collapsed": false
   },
   "outputs": [
    {
     "data": {
      "text/plain": [
       "False"
      ]
     },
     "execution_count": 32,
     "metadata": {},
     "output_type": "execute_result"
    }
   ],
   "source": [
    "i1.is_complete()\n"
   ]
  },
  {
   "cell_type": "code",
   "execution_count": 33,
   "metadata": {
    "collapsed": false
   },
   "outputs": [
    {
     "data": {
      "text/plain": [
       "True"
      ]
     },
     "execution_count": 33,
     "metadata": {},
     "output_type": "execute_result"
    }
   ],
   "source": [
    "i2.is_complete()"
   ]
  },
  {
   "cell_type": "code",
   "execution_count": 17,
   "metadata": {
    "collapsed": false
   },
   "outputs": [
    {
     "data": {
      "text/plain": [
       "'[X]'"
      ]
     },
     "execution_count": 17,
     "metadata": {},
     "output_type": "execute_result"
    }
   ],
   "source": [
    "i1.next()"
   ]
  },
  {
   "cell_type": "code",
   "execution_count": 18,
   "metadata": {
    "collapsed": true
   },
   "outputs": [],
   "source": [
    "i2.next()"
   ]
  },
  {
   "cell_type": "markdown",
   "metadata": {
    "collapsed": true
   },
   "source": [
    "## Axioms (CKY)\n",
    "\n",
    "For every rule X -> alpha, and every input position (i) between 0 and n-1, we have an item of the kind:\n",
    "\n",
    "* [X -> * alpha, i, i]\n",
    "\n",
    "which gets represented as\n",
    "\n",
    "* X -> alpha, [i]"
   ]
  },
  {
   "cell_type": "code",
   "execution_count": 41,
   "metadata": {
    "collapsed": true
   },
   "outputs": [],
   "source": [
    "def axioms(cfg, sentence):\n",
    "    \"\"\"\n",
    "    :params cfg: a context-free grammar (an instance of WCFG)\n",
    "    :params sentence: the input sentence (as a list or tuple)\n",
    "    :returns: a list of items\n",
    "    \"\"\"\n",
    "    items = []\n",
    "    for rule in cfg:\n",
    "        for i in range(len(sentence)):\n",
    "            items.append(Item(rule, [i]))\n",
    "    return items"
   ]
  },
  {
   "cell_type": "code",
   "execution_count": 43,
   "metadata": {
    "collapsed": false
   },
   "outputs": [
    {
     "data": {
      "text/plain": [
       "[[E] -> [T] (0.5) ||| (0,),\n",
       " [E] -> [T] (0.5) ||| (1,),\n",
       " [E] -> [T] (0.5) ||| (2,),\n",
       " [E] -> [E] + [T] (0.4) ||| (0,),\n",
       " [E] -> [E] + [T] (0.4) ||| (1,),\n",
       " [E] -> [E] + [T] (0.4) ||| (2,),\n",
       " [E] -> [T] + [E] (0.1) ||| (0,),\n",
       " [E] -> [T] + [E] (0.1) ||| (1,),\n",
       " [E] -> [T] + [E] (0.1) ||| (2,),\n",
       " [T] -> [P] (0.5) ||| (0,),\n",
       " [T] -> [P] (0.5) ||| (1,),\n",
       " [T] -> [P] (0.5) ||| (2,),\n",
       " [T] -> [T] * [P] (0.5) ||| (0,),\n",
       " [T] -> [T] * [P] (0.5) ||| (1,),\n",
       " [T] -> [T] * [P] (0.5) ||| (2,),\n",
       " [P] -> a (1.0) ||| (0,),\n",
       " [P] -> a (1.0) ||| (1,),\n",
       " [P] -> a (1.0) ||| (2,)]"
      ]
     },
     "execution_count": 43,
     "metadata": {},
     "output_type": "execute_result"
    }
   ],
   "source": [
    "sentence = 'a * a'.split()\n",
    "axioms(G, sentence)"
   ]
  },
  {
   "cell_type": "code",
   "execution_count": null,
   "metadata": {
    "collapsed": false
   },
   "outputs": [],
   "source": []
  },
  {
   "cell_type": "code",
   "execution_count": null,
   "metadata": {
    "collapsed": true
   },
   "outputs": [],
   "source": []
  }
 ],
 "metadata": {
  "kernelspec": {
   "display_name": "Python 2",
   "language": "python",
   "name": "python2"
  },
  "language_info": {
   "codemirror_mode": {
    "name": "ipython",
    "version": 2
   },
   "file_extension": ".py",
   "mimetype": "text/x-python",
   "name": "python",
   "nbconvert_exporter": "python",
   "pygments_lexer": "ipython2",
   "version": "2.7.6"
  }
 },
 "nbformat": 4,
 "nbformat_minor": 0
}
