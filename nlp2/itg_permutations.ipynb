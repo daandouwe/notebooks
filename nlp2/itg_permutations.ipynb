{
 "cells": [
  {
   "cell_type": "markdown",
   "metadata": {},
   "source": [
    "# Binarizable permutations"
   ]
  },
  {
   "cell_type": "code",
   "execution_count": 1,
   "metadata": {
    "collapsed": true
   },
   "outputs": [],
   "source": [
    "from rule import Rule\n",
    "from symbol import is_nonterminal, is_terminal\n",
    "from wcfg import FrozenWCFG, WCFG, count_derivations\n",
    "from wfsa import WDFSA\n",
    "from earley import Earley\n",
    "import math"
   ]
  },
  {
   "cell_type": "code",
   "execution_count": null,
   "metadata": {
    "collapsed": true
   },
   "outputs": [],
   "source": []
  },
  {
   "cell_type": "code",
   "execution_count": 2,
   "metadata": {
    "collapsed": true
   },
   "outputs": [],
   "source": [
    "def read_grammar_rules(istream, already_log=True):\n",
    "    for line in istream:\n",
    "        lhs, rhs, log_prob = line.strip().split(' ||| ')\n",
    "        rhs = rhs.split()\n",
    "        log_prob = float(log_prob)\n",
    "        if not already_log:\n",
    "            log_prob = math.log(log_prob)\n",
    "        yield Rule(lhs, rhs, log_prob)"
   ]
  },
  {
   "cell_type": "code",
   "execution_count": 3,
   "metadata": {
    "collapsed": true
   },
   "outputs": [],
   "source": [
    "def make_linear_fsa(input_str):\n",
    "    wfsa = WDFSA()\n",
    "    tokens = input_str.split()\n",
    "    for i, token in enumerate(tokens):\n",
    "        wfsa.add_arc(i, i + 1, token)\n",
    "    wfsa.make_initial(0)\n",
    "    wfsa.make_final(len(tokens))\n",
    "    return wfsa"
   ]
  },
  {
   "cell_type": "code",
   "execution_count": 4,
   "metadata": {
    "collapsed": false
   },
   "outputs": [],
   "source": [
    "def parse(wcfg, input_str):\n",
    "    wfsa = make_linear_fsa(input_str)\n",
    "    print 'FSA'\n",
    "    print wfsa\n",
    "    parser = Earley(wcfg, wfsa)\n",
    "    status, R = parser.do('[S]', '[GOAL]')\n",
    "    if not status:\n",
    "        print 'NO PARSE FOUND'\n",
    "        return False\n",
    "    forest = WCFG()\n",
    "    for rule in R:\n",
    "        forest.add_rule(rule)\n",
    "        #continue\n",
    "        if len(rule.rhs) > 1 and all(map(is_nonterminal, rule.rhs)):\n",
    "            forest.add_rule(Rule(rule.lhs, reversed(rule.rhs), rule.log_prob))\n",
    "    print 'FOREST'\n",
    "    print forest\n",
    "\n",
    "    counts = count_derivations(forest, '[GOAL]')\n",
    "    #for d, n in counts['d'].iteritems():\n",
    "    #    print ' ||| '.join(str(r) for r in d), n\n",
    "    total = 0\n",
    "    print 'PERMUTATIONS'\n",
    "    for p, n in sorted(counts['p'].iteritems(), key=lambda (k, v): k):\n",
    "        print p, n\n",
    "        total += n\n",
    "    print len(counts['p'].keys()),'permutations and', total, 'derivations'\n",
    "    return True"
   ]
  },
  {
   "cell_type": "code",
   "execution_count": 5,
   "metadata": {
    "collapsed": false
   },
   "outputs": [
    {
     "name": "stdout",
     "output_type": "stream",
     "text": [
      "GRAMMAR\n",
      "[S] -> [X] (0.0)\n",
      "[X] -> 2 (0.0)\n",
      "[X] -> 4 (0.0)\n",
      "[X] -> 9 (0.0)\n",
      "[X] -> 5 (0.0)\n",
      "[X] -> 6 (0.0)\n",
      "[X] -> 1 (0.0)\n",
      "[X] -> [X] [X] (0.0)\n",
      "[X] -> 8 (0.0)\n",
      "[X] -> 3 (0.0)\n",
      "[X] -> 7 (0.0)\n"
     ]
    }
   ],
   "source": [
    "GRAMMAR = ['[S] ||| [X] ||| 1.0', '[X] ||| [X] [X] ||| 1.0'] + ['[X] ||| %d ||| 1.0' % i for i in range(1,10)]\n",
    "wcfg = FrozenWCFG(read_grammar_rules(GRAMMAR, already_log=False))\n",
    "print 'GRAMMAR'\n",
    "print wcfg\n",
    "\n"
   ]
  },
  {
   "cell_type": "code",
   "execution_count": 7,
   "metadata": {
    "collapsed": false
   },
   "outputs": [
    {
     "name": "stdout",
     "output_type": "stream",
     "text": [
      "FSA\n",
      "(1, 2, 2, 0.0)\n",
      "(0, 1, 1, 0.0)\n",
      "(3, 4, 4, 0.0)\n",
      "(2, 3, 3, 0.0)\n",
      "FOREST\n",
      "[X,0-1] -> 1 (0.0)\n",
      "[GOAL] -> [S,0-4] (0.0)\n",
      "[X,1-4] -> [X,1-3] [X,3-4] (0.0)\n",
      "[X,1-4] -> [X,3-4] [X,1-3] (0.0)\n",
      "[X,1-4] -> [X,1-2] [X,2-4] (0.0)\n",
      "[X,1-4] -> [X,2-4] [X,1-2] (0.0)\n",
      "[X,3-4] -> 4 (0.0)\n",
      "[X,0-3] -> [X,0-2] [X,2-3] (0.0)\n",
      "[X,0-3] -> [X,2-3] [X,0-2] (0.0)\n",
      "[X,0-3] -> [X,0-1] [X,1-3] (0.0)\n",
      "[X,0-3] -> [X,1-3] [X,0-1] (0.0)\n",
      "[X,0-2] -> [X,0-1] [X,1-2] (0.0)\n",
      "[X,0-2] -> [X,1-2] [X,0-1] (0.0)\n",
      "[S,0-4] -> [X,0-4] (0.0)\n",
      "[X,1-2] -> 2 (0.0)\n",
      "[X,1-3] -> [X,1-2] [X,2-3] (0.0)\n",
      "[X,1-3] -> [X,2-3] [X,1-2] (0.0)\n",
      "[X,2-3] -> 3 (0.0)\n",
      "[X,0-4] -> [X,0-2] [X,2-4] (0.0)\n",
      "[X,0-4] -> [X,2-4] [X,0-2] (0.0)\n",
      "[X,0-4] -> [X,0-3] [X,3-4] (0.0)\n",
      "[X,0-4] -> [X,3-4] [X,0-3] (0.0)\n",
      "[X,0-4] -> [X,0-1] [X,1-4] (0.0)\n",
      "[X,0-4] -> [X,1-4] [X,0-1] (0.0)\n",
      "[X,2-4] -> [X,2-3] [X,3-4] (0.0)\n",
      "[X,2-4] -> [X,3-4] [X,2-3] (0.0)\n",
      "PERMUTATIONS\n",
      "('1', '2', '3', '4') 5\n",
      "('1', '2', '4', '3') 2\n",
      "('1', '3', '2', '4') 2\n",
      "('1', '3', '4', '2') 1\n",
      "('1', '4', '2', '3') 1\n",
      "('1', '4', '3', '2') 2\n",
      "('2', '1', '3', '4') 2\n",
      "('2', '1', '4', '3') 1\n",
      "('2', '3', '1', '4') 1\n",
      "('2', '3', '4', '1') 2\n",
      "('2', '4', '3', '1') 1\n",
      "('3', '1', '2', '4') 1\n",
      "('3', '2', '1', '4') 2\n",
      "('3', '2', '4', '1') 1\n",
      "('3', '4', '1', '2') 1\n",
      "('3', '4', '2', '1') 2\n",
      "('4', '1', '2', '3') 2\n",
      "('4', '1', '3', '2') 1\n",
      "('4', '2', '1', '3') 1\n",
      "('4', '2', '3', '1') 2\n",
      "('4', '3', '1', '2') 2\n",
      "('4', '3', '2', '1') 5\n",
      "22 permutations and 40 derivations\n"
     ]
    },
    {
     "data": {
      "text/plain": [
       "True"
      ]
     },
     "execution_count": 7,
     "metadata": {},
     "output_type": "execute_result"
    }
   ],
   "source": [
    "parse(wcfg, '1 2 3 4')"
   ]
  },
  {
   "cell_type": "code",
   "execution_count": null,
   "metadata": {
    "collapsed": true
   },
   "outputs": [],
   "source": []
  },
  {
   "cell_type": "code",
   "execution_count": null,
   "metadata": {
    "collapsed": true
   },
   "outputs": [],
   "source": []
  }
 ],
 "metadata": {
  "kernelspec": {
   "display_name": "Python 2",
   "language": "python",
   "name": "python2"
  },
  "language_info": {
   "codemirror_mode": {
    "name": "ipython",
    "version": 2
   },
   "file_extension": ".py",
   "mimetype": "text/x-python",
   "name": "python",
   "nbconvert_exporter": "python",
   "pygments_lexer": "ipython2",
   "version": "2.7.6"
  }
 },
 "nbformat": 4,
 "nbformat_minor": 0
}
